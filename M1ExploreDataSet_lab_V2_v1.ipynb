{
  "cells": [
    {
      "cell_type": "markdown",
      "metadata": {
        "id": "uTF4BAYg2wZY"
      },
      "source": [
        "<p style=\"text-align:center\">\n",
        "    <a href=\"https://skills.network\" target=\"_blank\">\n",
        "    <img src=\"https://cf-courses-data.s3.us.cloud-object-storage.appdomain.cloud/assets/logos/SN_web_lightmode.png\" width=\"200\" alt=\"Skills Network Logo\"  />\n",
        "    </a>\n",
        "</p>\n"
      ]
    },
    {
      "cell_type": "markdown",
      "metadata": {
        "id": "2dduE4Do2wZh"
      },
      "source": [
        "# **Lab: Exploring the Dataset**\n"
      ]
    },
    {
      "cell_type": "markdown",
      "metadata": {
        "id": "Mv8nuAyN2wZj"
      },
      "source": [
        "Estimated time needed: **30** minutes\n"
      ]
    },
    {
      "cell_type": "markdown",
      "metadata": {
        "id": "HoBcaIUn2wZl"
      },
      "source": [
        "## Introduction\n"
      ]
    },
    {
      "cell_type": "markdown",
      "metadata": {
        "id": "tkiOgMJ12wZm"
      },
      "source": [
        "Data exploration is the initial phase of data analysis where we aim to understand the data's characteristics, identify patterns, and uncover potential insights. It is a crucial step that helps us make informed decisions about subsequent analysis.\n",
        "\n",
        "L’exploration des données est la phase initiale de l’analyse des données où nous visons à comprendre les caractéristiques des données, à identifier des modèles et à découvrir des informations potentielles. Il s’agit d’une étape cruciale qui nous aide à prendre des décisions éclairées concernant l’analyse ultérieure.\n"
      ]
    },
    {
      "cell_type": "markdown",
      "metadata": {
        "id": "hZ9YVQev2wZq"
      },
      "source": [
        "## Objectives\n"
      ]
    },
    {
      "cell_type": "markdown",
      "metadata": {
        "id": "lqRkFb4G2wZq"
      },
      "source": [
        "After completing this lab, you will be able to:\n",
        "\n",
        "À l’issue de cet atelier, vous serez en mesure de :\n"
      ]
    },
    {
      "cell_type": "markdown",
      "metadata": {
        "id": "2HBLwzNQ2wZs"
      },
      "source": [
        "-   Summarize the key characteristics of a dataset.\n",
        "-   Identify different data types commonly used in data analysis.\n",
        "-   Résumez les principales caractéristiques d’un ensemble de données.\n",
        "-   Identifiez les différents types de données couramment utilisés dans l’analyse des données.\n"
      ]
    },
    {
      "cell_type": "markdown",
      "metadata": {
        "id": "HcRSLtpS2wZt"
      },
      "source": [
        "## Load the dataset\n"
      ]
    },
    {
      "cell_type": "markdown",
      "metadata": {
        "id": "-ajMqpDT2wZv"
      },
      "source": [
        "Import the required libraries.\n"
      ]
    },
    {
      "cell_type": "code",
      "execution_count": 1,
      "metadata": {
        "id": "JIuTJMlc2wZw"
      },
      "outputs": [],
      "source": [
        "import pandas as pd"
      ]
    },
    {
      "cell_type": "markdown",
      "metadata": {
        "id": "BtAKLmcJ2wZz"
      },
      "source": [
        "The dataset is available on the IBM Cloud at the below url.\n"
      ]
    },
    {
      "cell_type": "code",
      "execution_count": 2,
      "metadata": {
        "id": "ru_oeeq92wZ0"
      },
      "outputs": [],
      "source": [
        "dataset_url = \"https://cf-courses-data.s3.us.cloud-object-storage.appdomain.cloud/n01PQ9pSmiRX6520flujwQ/survey-data.csv\""
      ]
    },
    {
      "cell_type": "markdown",
      "metadata": {
        "id": "iXVeGdtm2wZ1"
      },
      "source": [
        "Load the data available at dataset_url into a dataframe.\n",
        "\n",
        "Chargez les données disponibles à dataset_url dans une trame de données.\n"
      ]
    },
    {
      "cell_type": "code",
      "execution_count": 6,
      "metadata": {
        "colab": {
          "base_uri": "https://localhost:8080/"
        },
        "id": "ciIL04bj2wZ1",
        "outputId": "769954a3-19ba-46c2-d968-cc38ec933177"
      },
      "outputs": [
        {
          "output_type": "stream",
          "name": "stdout",
          "text": [
            "Données chargées avec succès.\n",
            "   ResponseId                      MainBranch                 Age  \\\n",
            "0           1  I am a developer by profession  Under 18 years old   \n",
            "1           2  I am a developer by profession     35-44 years old   \n",
            "2           3  I am a developer by profession     45-54 years old   \n",
            "3           4           I am learning to code     18-24 years old   \n",
            "4           5  I am a developer by profession     18-24 years old   \n",
            "\n",
            "            Employment RemoteWork   Check  \\\n",
            "0  Employed, full-time     Remote  Apples   \n",
            "1  Employed, full-time     Remote  Apples   \n",
            "2  Employed, full-time     Remote  Apples   \n",
            "3   Student, full-time        NaN  Apples   \n",
            "4   Student, full-time        NaN  Apples   \n",
            "\n",
            "                                    CodingActivities  \\\n",
            "0                                              Hobby   \n",
            "1  Hobby;Contribute to open-source projects;Other...   \n",
            "2  Hobby;Contribute to open-source projects;Other...   \n",
            "3                                                NaN   \n",
            "4                                                NaN   \n",
            "\n",
            "                                             EdLevel  \\\n",
            "0                          Primary/elementary school   \n",
            "1       Bachelor’s degree (B.A., B.S., B.Eng., etc.)   \n",
            "2    Master’s degree (M.A., M.S., M.Eng., MBA, etc.)   \n",
            "3  Some college/university study without earning ...   \n",
            "4  Secondary school (e.g. American high school, G...   \n",
            "\n",
            "                                           LearnCode  \\\n",
            "0                             Books / Physical media   \n",
            "1  Books / Physical media;Colleague;On the job tr...   \n",
            "2  Books / Physical media;Colleague;On the job tr...   \n",
            "3  Other online resources (e.g., videos, blogs, f...   \n",
            "4  Other online resources (e.g., videos, blogs, f...   \n",
            "\n",
            "                                     LearnCodeOnline  ... JobSatPoints_6  \\\n",
            "0                                                NaN  ...            NaN   \n",
            "1  Technical documentation;Blogs;Books;Written Tu...  ...            0.0   \n",
            "2  Technical documentation;Blogs;Books;Written Tu...  ...            NaN   \n",
            "3  Stack Overflow;How-to videos;Interactive tutorial  ...            NaN   \n",
            "4  Technical documentation;Blogs;Written Tutorial...  ...            NaN   \n",
            "\n",
            "  JobSatPoints_7 JobSatPoints_8 JobSatPoints_9 JobSatPoints_10  \\\n",
            "0            NaN            NaN            NaN             NaN   \n",
            "1            0.0            0.0            0.0             0.0   \n",
            "2            NaN            NaN            NaN             NaN   \n",
            "3            NaN            NaN            NaN             NaN   \n",
            "4            NaN            NaN            NaN             NaN   \n",
            "\n",
            "  JobSatPoints_11           SurveyLength SurveyEase ConvertedCompYearly JobSat  \n",
            "0             NaN                    NaN        NaN                 NaN    NaN  \n",
            "1             0.0                    NaN        NaN                 NaN    NaN  \n",
            "2             NaN  Appropriate in length       Easy                 NaN    NaN  \n",
            "3             NaN               Too long       Easy                 NaN    NaN  \n",
            "4             NaN              Too short       Easy                 NaN    NaN  \n",
            "\n",
            "[5 rows x 114 columns]\n"
          ]
        }
      ],
      "source": [
        "\n",
        "# Charger les données dans une trame de données pandas\n",
        "try:\n",
        "    df = pd.read_csv(dataset_url)\n",
        "    print(\"Données chargées avec succès.\")\n",
        "    print(df.head())  # Afficher les 5 premières lignes\n",
        "except Exception as e:\n",
        "    print(f\"Erreur lors du chargement des données : {e}\")\n"
      ]
    },
    {
      "cell_type": "markdown",
      "metadata": {
        "id": "N2dMxZgy2wZ3"
      },
      "source": [
        "## Explore the dataset\n"
      ]
    },
    {
      "cell_type": "markdown",
      "metadata": {
        "id": "zaSFv1x32wZ3"
      },
      "source": [
        "It is a good idea to print the top 5 rows of the dataset to get a feel of how the dataset will look.\n",
        "\n",
        "C’est une bonne idée d’imprimer les 5 premières lignes de l’ensemble de données pour avoir une idée de l’apparence de l’ensemble de données.\n"
      ]
    },
    {
      "cell_type": "markdown",
      "metadata": {
        "id": "BFLrnPKN2wZ4"
      },
      "source": [
        "Display the top 5 rows and columns from your dataset.\n",
        "\n",
        "Affichez les 5 premières lignes et colonnes de votre ensemble de données.\n"
      ]
    },
    {
      "cell_type": "code",
      "execution_count": 7,
      "metadata": {
        "colab": {
          "base_uri": "https://localhost:8080/",
          "height": 516
        },
        "id": "bIdOMuNq2wZ4",
        "outputId": "16dd2a47-20a3-41a0-f41f-1d91a119ffbc"
      },
      "outputs": [
        {
          "output_type": "execute_result",
          "data": {
            "text/plain": [
              "   ResponseId                      MainBranch                 Age  \\\n",
              "0           1  I am a developer by profession  Under 18 years old   \n",
              "1           2  I am a developer by profession     35-44 years old   \n",
              "2           3  I am a developer by profession     45-54 years old   \n",
              "3           4           I am learning to code     18-24 years old   \n",
              "4           5  I am a developer by profession     18-24 years old   \n",
              "\n",
              "            Employment RemoteWork   Check  \\\n",
              "0  Employed, full-time     Remote  Apples   \n",
              "1  Employed, full-time     Remote  Apples   \n",
              "2  Employed, full-time     Remote  Apples   \n",
              "3   Student, full-time        NaN  Apples   \n",
              "4   Student, full-time        NaN  Apples   \n",
              "\n",
              "                                    CodingActivities  \\\n",
              "0                                              Hobby   \n",
              "1  Hobby;Contribute to open-source projects;Other...   \n",
              "2  Hobby;Contribute to open-source projects;Other...   \n",
              "3                                                NaN   \n",
              "4                                                NaN   \n",
              "\n",
              "                                             EdLevel  \\\n",
              "0                          Primary/elementary school   \n",
              "1       Bachelor’s degree (B.A., B.S., B.Eng., etc.)   \n",
              "2    Master’s degree (M.A., M.S., M.Eng., MBA, etc.)   \n",
              "3  Some college/university study without earning ...   \n",
              "4  Secondary school (e.g. American high school, G...   \n",
              "\n",
              "                                           LearnCode  \\\n",
              "0                             Books / Physical media   \n",
              "1  Books / Physical media;Colleague;On the job tr...   \n",
              "2  Books / Physical media;Colleague;On the job tr...   \n",
              "3  Other online resources (e.g., videos, blogs, f...   \n",
              "4  Other online resources (e.g., videos, blogs, f...   \n",
              "\n",
              "                                     LearnCodeOnline  ... JobSatPoints_6  \\\n",
              "0                                                NaN  ...            NaN   \n",
              "1  Technical documentation;Blogs;Books;Written Tu...  ...            0.0   \n",
              "2  Technical documentation;Blogs;Books;Written Tu...  ...            NaN   \n",
              "3  Stack Overflow;How-to videos;Interactive tutorial  ...            NaN   \n",
              "4  Technical documentation;Blogs;Written Tutorial...  ...            NaN   \n",
              "\n",
              "  JobSatPoints_7 JobSatPoints_8 JobSatPoints_9 JobSatPoints_10  \\\n",
              "0            NaN            NaN            NaN             NaN   \n",
              "1            0.0            0.0            0.0             0.0   \n",
              "2            NaN            NaN            NaN             NaN   \n",
              "3            NaN            NaN            NaN             NaN   \n",
              "4            NaN            NaN            NaN             NaN   \n",
              "\n",
              "  JobSatPoints_11           SurveyLength SurveyEase ConvertedCompYearly JobSat  \n",
              "0             NaN                    NaN        NaN                 NaN    NaN  \n",
              "1             0.0                    NaN        NaN                 NaN    NaN  \n",
              "2             NaN  Appropriate in length       Easy                 NaN    NaN  \n",
              "3             NaN               Too long       Easy                 NaN    NaN  \n",
              "4             NaN              Too short       Easy                 NaN    NaN  \n",
              "\n",
              "[5 rows x 114 columns]"
            ],
            "text/html": [
              "\n",
              "  <div id=\"df-c1c4aed0-0619-4c76-a20b-235cdf4a4bc2\" class=\"colab-df-container\">\n",
              "    <div>\n",
              "<style scoped>\n",
              "    .dataframe tbody tr th:only-of-type {\n",
              "        vertical-align: middle;\n",
              "    }\n",
              "\n",
              "    .dataframe tbody tr th {\n",
              "        vertical-align: top;\n",
              "    }\n",
              "\n",
              "    .dataframe thead th {\n",
              "        text-align: right;\n",
              "    }\n",
              "</style>\n",
              "<table border=\"1\" class=\"dataframe\">\n",
              "  <thead>\n",
              "    <tr style=\"text-align: right;\">\n",
              "      <th></th>\n",
              "      <th>ResponseId</th>\n",
              "      <th>MainBranch</th>\n",
              "      <th>Age</th>\n",
              "      <th>Employment</th>\n",
              "      <th>RemoteWork</th>\n",
              "      <th>Check</th>\n",
              "      <th>CodingActivities</th>\n",
              "      <th>EdLevel</th>\n",
              "      <th>LearnCode</th>\n",
              "      <th>LearnCodeOnline</th>\n",
              "      <th>...</th>\n",
              "      <th>JobSatPoints_6</th>\n",
              "      <th>JobSatPoints_7</th>\n",
              "      <th>JobSatPoints_8</th>\n",
              "      <th>JobSatPoints_9</th>\n",
              "      <th>JobSatPoints_10</th>\n",
              "      <th>JobSatPoints_11</th>\n",
              "      <th>SurveyLength</th>\n",
              "      <th>SurveyEase</th>\n",
              "      <th>ConvertedCompYearly</th>\n",
              "      <th>JobSat</th>\n",
              "    </tr>\n",
              "  </thead>\n",
              "  <tbody>\n",
              "    <tr>\n",
              "      <th>0</th>\n",
              "      <td>1</td>\n",
              "      <td>I am a developer by profession</td>\n",
              "      <td>Under 18 years old</td>\n",
              "      <td>Employed, full-time</td>\n",
              "      <td>Remote</td>\n",
              "      <td>Apples</td>\n",
              "      <td>Hobby</td>\n",
              "      <td>Primary/elementary school</td>\n",
              "      <td>Books / Physical media</td>\n",
              "      <td>NaN</td>\n",
              "      <td>...</td>\n",
              "      <td>NaN</td>\n",
              "      <td>NaN</td>\n",
              "      <td>NaN</td>\n",
              "      <td>NaN</td>\n",
              "      <td>NaN</td>\n",
              "      <td>NaN</td>\n",
              "      <td>NaN</td>\n",
              "      <td>NaN</td>\n",
              "      <td>NaN</td>\n",
              "      <td>NaN</td>\n",
              "    </tr>\n",
              "    <tr>\n",
              "      <th>1</th>\n",
              "      <td>2</td>\n",
              "      <td>I am a developer by profession</td>\n",
              "      <td>35-44 years old</td>\n",
              "      <td>Employed, full-time</td>\n",
              "      <td>Remote</td>\n",
              "      <td>Apples</td>\n",
              "      <td>Hobby;Contribute to open-source projects;Other...</td>\n",
              "      <td>Bachelor’s degree (B.A., B.S., B.Eng., etc.)</td>\n",
              "      <td>Books / Physical media;Colleague;On the job tr...</td>\n",
              "      <td>Technical documentation;Blogs;Books;Written Tu...</td>\n",
              "      <td>...</td>\n",
              "      <td>0.0</td>\n",
              "      <td>0.0</td>\n",
              "      <td>0.0</td>\n",
              "      <td>0.0</td>\n",
              "      <td>0.0</td>\n",
              "      <td>0.0</td>\n",
              "      <td>NaN</td>\n",
              "      <td>NaN</td>\n",
              "      <td>NaN</td>\n",
              "      <td>NaN</td>\n",
              "    </tr>\n",
              "    <tr>\n",
              "      <th>2</th>\n",
              "      <td>3</td>\n",
              "      <td>I am a developer by profession</td>\n",
              "      <td>45-54 years old</td>\n",
              "      <td>Employed, full-time</td>\n",
              "      <td>Remote</td>\n",
              "      <td>Apples</td>\n",
              "      <td>Hobby;Contribute to open-source projects;Other...</td>\n",
              "      <td>Master’s degree (M.A., M.S., M.Eng., MBA, etc.)</td>\n",
              "      <td>Books / Physical media;Colleague;On the job tr...</td>\n",
              "      <td>Technical documentation;Blogs;Books;Written Tu...</td>\n",
              "      <td>...</td>\n",
              "      <td>NaN</td>\n",
              "      <td>NaN</td>\n",
              "      <td>NaN</td>\n",
              "      <td>NaN</td>\n",
              "      <td>NaN</td>\n",
              "      <td>NaN</td>\n",
              "      <td>Appropriate in length</td>\n",
              "      <td>Easy</td>\n",
              "      <td>NaN</td>\n",
              "      <td>NaN</td>\n",
              "    </tr>\n",
              "    <tr>\n",
              "      <th>3</th>\n",
              "      <td>4</td>\n",
              "      <td>I am learning to code</td>\n",
              "      <td>18-24 years old</td>\n",
              "      <td>Student, full-time</td>\n",
              "      <td>NaN</td>\n",
              "      <td>Apples</td>\n",
              "      <td>NaN</td>\n",
              "      <td>Some college/university study without earning ...</td>\n",
              "      <td>Other online resources (e.g., videos, blogs, f...</td>\n",
              "      <td>Stack Overflow;How-to videos;Interactive tutorial</td>\n",
              "      <td>...</td>\n",
              "      <td>NaN</td>\n",
              "      <td>NaN</td>\n",
              "      <td>NaN</td>\n",
              "      <td>NaN</td>\n",
              "      <td>NaN</td>\n",
              "      <td>NaN</td>\n",
              "      <td>Too long</td>\n",
              "      <td>Easy</td>\n",
              "      <td>NaN</td>\n",
              "      <td>NaN</td>\n",
              "    </tr>\n",
              "    <tr>\n",
              "      <th>4</th>\n",
              "      <td>5</td>\n",
              "      <td>I am a developer by profession</td>\n",
              "      <td>18-24 years old</td>\n",
              "      <td>Student, full-time</td>\n",
              "      <td>NaN</td>\n",
              "      <td>Apples</td>\n",
              "      <td>NaN</td>\n",
              "      <td>Secondary school (e.g. American high school, G...</td>\n",
              "      <td>Other online resources (e.g., videos, blogs, f...</td>\n",
              "      <td>Technical documentation;Blogs;Written Tutorial...</td>\n",
              "      <td>...</td>\n",
              "      <td>NaN</td>\n",
              "      <td>NaN</td>\n",
              "      <td>NaN</td>\n",
              "      <td>NaN</td>\n",
              "      <td>NaN</td>\n",
              "      <td>NaN</td>\n",
              "      <td>Too short</td>\n",
              "      <td>Easy</td>\n",
              "      <td>NaN</td>\n",
              "      <td>NaN</td>\n",
              "    </tr>\n",
              "  </tbody>\n",
              "</table>\n",
              "<p>5 rows × 114 columns</p>\n",
              "</div>\n",
              "    <div class=\"colab-df-buttons\">\n",
              "\n",
              "  <div class=\"colab-df-container\">\n",
              "    <button class=\"colab-df-convert\" onclick=\"convertToInteractive('df-c1c4aed0-0619-4c76-a20b-235cdf4a4bc2')\"\n",
              "            title=\"Convert this dataframe to an interactive table.\"\n",
              "            style=\"display:none;\">\n",
              "\n",
              "  <svg xmlns=\"http://www.w3.org/2000/svg\" height=\"24px\" viewBox=\"0 -960 960 960\">\n",
              "    <path d=\"M120-120v-720h720v720H120Zm60-500h600v-160H180v160Zm220 220h160v-160H400v160Zm0 220h160v-160H400v160ZM180-400h160v-160H180v160Zm440 0h160v-160H620v160ZM180-180h160v-160H180v160Zm440 0h160v-160H620v160Z\"/>\n",
              "  </svg>\n",
              "    </button>\n",
              "\n",
              "  <style>\n",
              "    .colab-df-container {\n",
              "      display:flex;\n",
              "      gap: 12px;\n",
              "    }\n",
              "\n",
              "    .colab-df-convert {\n",
              "      background-color: #E8F0FE;\n",
              "      border: none;\n",
              "      border-radius: 50%;\n",
              "      cursor: pointer;\n",
              "      display: none;\n",
              "      fill: #1967D2;\n",
              "      height: 32px;\n",
              "      padding: 0 0 0 0;\n",
              "      width: 32px;\n",
              "    }\n",
              "\n",
              "    .colab-df-convert:hover {\n",
              "      background-color: #E2EBFA;\n",
              "      box-shadow: 0px 1px 2px rgba(60, 64, 67, 0.3), 0px 1px 3px 1px rgba(60, 64, 67, 0.15);\n",
              "      fill: #174EA6;\n",
              "    }\n",
              "\n",
              "    .colab-df-buttons div {\n",
              "      margin-bottom: 4px;\n",
              "    }\n",
              "\n",
              "    [theme=dark] .colab-df-convert {\n",
              "      background-color: #3B4455;\n",
              "      fill: #D2E3FC;\n",
              "    }\n",
              "\n",
              "    [theme=dark] .colab-df-convert:hover {\n",
              "      background-color: #434B5C;\n",
              "      box-shadow: 0px 1px 3px 1px rgba(0, 0, 0, 0.15);\n",
              "      filter: drop-shadow(0px 1px 2px rgba(0, 0, 0, 0.3));\n",
              "      fill: #FFFFFF;\n",
              "    }\n",
              "  </style>\n",
              "\n",
              "    <script>\n",
              "      const buttonEl =\n",
              "        document.querySelector('#df-c1c4aed0-0619-4c76-a20b-235cdf4a4bc2 button.colab-df-convert');\n",
              "      buttonEl.style.display =\n",
              "        google.colab.kernel.accessAllowed ? 'block' : 'none';\n",
              "\n",
              "      async function convertToInteractive(key) {\n",
              "        const element = document.querySelector('#df-c1c4aed0-0619-4c76-a20b-235cdf4a4bc2');\n",
              "        const dataTable =\n",
              "          await google.colab.kernel.invokeFunction('convertToInteractive',\n",
              "                                                    [key], {});\n",
              "        if (!dataTable) return;\n",
              "\n",
              "        const docLinkHtml = 'Like what you see? Visit the ' +\n",
              "          '<a target=\"_blank\" href=https://colab.research.google.com/notebooks/data_table.ipynb>data table notebook</a>'\n",
              "          + ' to learn more about interactive tables.';\n",
              "        element.innerHTML = '';\n",
              "        dataTable['output_type'] = 'display_data';\n",
              "        await google.colab.output.renderOutput(dataTable, element);\n",
              "        const docLink = document.createElement('div');\n",
              "        docLink.innerHTML = docLinkHtml;\n",
              "        element.appendChild(docLink);\n",
              "      }\n",
              "    </script>\n",
              "  </div>\n",
              "\n",
              "\n",
              "<div id=\"df-d76e5f9f-ffe8-4791-8ee0-0c49d2536c49\">\n",
              "  <button class=\"colab-df-quickchart\" onclick=\"quickchart('df-d76e5f9f-ffe8-4791-8ee0-0c49d2536c49')\"\n",
              "            title=\"Suggest charts\"\n",
              "            style=\"display:none;\">\n",
              "\n",
              "<svg xmlns=\"http://www.w3.org/2000/svg\" height=\"24px\"viewBox=\"0 0 24 24\"\n",
              "     width=\"24px\">\n",
              "    <g>\n",
              "        <path d=\"M19 3H5c-1.1 0-2 .9-2 2v14c0 1.1.9 2 2 2h14c1.1 0 2-.9 2-2V5c0-1.1-.9-2-2-2zM9 17H7v-7h2v7zm4 0h-2V7h2v10zm4 0h-2v-4h2v4z\"/>\n",
              "    </g>\n",
              "</svg>\n",
              "  </button>\n",
              "\n",
              "<style>\n",
              "  .colab-df-quickchart {\n",
              "      --bg-color: #E8F0FE;\n",
              "      --fill-color: #1967D2;\n",
              "      --hover-bg-color: #E2EBFA;\n",
              "      --hover-fill-color: #174EA6;\n",
              "      --disabled-fill-color: #AAA;\n",
              "      --disabled-bg-color: #DDD;\n",
              "  }\n",
              "\n",
              "  [theme=dark] .colab-df-quickchart {\n",
              "      --bg-color: #3B4455;\n",
              "      --fill-color: #D2E3FC;\n",
              "      --hover-bg-color: #434B5C;\n",
              "      --hover-fill-color: #FFFFFF;\n",
              "      --disabled-bg-color: #3B4455;\n",
              "      --disabled-fill-color: #666;\n",
              "  }\n",
              "\n",
              "  .colab-df-quickchart {\n",
              "    background-color: var(--bg-color);\n",
              "    border: none;\n",
              "    border-radius: 50%;\n",
              "    cursor: pointer;\n",
              "    display: none;\n",
              "    fill: var(--fill-color);\n",
              "    height: 32px;\n",
              "    padding: 0;\n",
              "    width: 32px;\n",
              "  }\n",
              "\n",
              "  .colab-df-quickchart:hover {\n",
              "    background-color: var(--hover-bg-color);\n",
              "    box-shadow: 0 1px 2px rgba(60, 64, 67, 0.3), 0 1px 3px 1px rgba(60, 64, 67, 0.15);\n",
              "    fill: var(--button-hover-fill-color);\n",
              "  }\n",
              "\n",
              "  .colab-df-quickchart-complete:disabled,\n",
              "  .colab-df-quickchart-complete:disabled:hover {\n",
              "    background-color: var(--disabled-bg-color);\n",
              "    fill: var(--disabled-fill-color);\n",
              "    box-shadow: none;\n",
              "  }\n",
              "\n",
              "  .colab-df-spinner {\n",
              "    border: 2px solid var(--fill-color);\n",
              "    border-color: transparent;\n",
              "    border-bottom-color: var(--fill-color);\n",
              "    animation:\n",
              "      spin 1s steps(1) infinite;\n",
              "  }\n",
              "\n",
              "  @keyframes spin {\n",
              "    0% {\n",
              "      border-color: transparent;\n",
              "      border-bottom-color: var(--fill-color);\n",
              "      border-left-color: var(--fill-color);\n",
              "    }\n",
              "    20% {\n",
              "      border-color: transparent;\n",
              "      border-left-color: var(--fill-color);\n",
              "      border-top-color: var(--fill-color);\n",
              "    }\n",
              "    30% {\n",
              "      border-color: transparent;\n",
              "      border-left-color: var(--fill-color);\n",
              "      border-top-color: var(--fill-color);\n",
              "      border-right-color: var(--fill-color);\n",
              "    }\n",
              "    40% {\n",
              "      border-color: transparent;\n",
              "      border-right-color: var(--fill-color);\n",
              "      border-top-color: var(--fill-color);\n",
              "    }\n",
              "    60% {\n",
              "      border-color: transparent;\n",
              "      border-right-color: var(--fill-color);\n",
              "    }\n",
              "    80% {\n",
              "      border-color: transparent;\n",
              "      border-right-color: var(--fill-color);\n",
              "      border-bottom-color: var(--fill-color);\n",
              "    }\n",
              "    90% {\n",
              "      border-color: transparent;\n",
              "      border-bottom-color: var(--fill-color);\n",
              "    }\n",
              "  }\n",
              "</style>\n",
              "\n",
              "  <script>\n",
              "    async function quickchart(key) {\n",
              "      const quickchartButtonEl =\n",
              "        document.querySelector('#' + key + ' button');\n",
              "      quickchartButtonEl.disabled = true;  // To prevent multiple clicks.\n",
              "      quickchartButtonEl.classList.add('colab-df-spinner');\n",
              "      try {\n",
              "        const charts = await google.colab.kernel.invokeFunction(\n",
              "            'suggestCharts', [key], {});\n",
              "      } catch (error) {\n",
              "        console.error('Error during call to suggestCharts:', error);\n",
              "      }\n",
              "      quickchartButtonEl.classList.remove('colab-df-spinner');\n",
              "      quickchartButtonEl.classList.add('colab-df-quickchart-complete');\n",
              "    }\n",
              "    (() => {\n",
              "      let quickchartButtonEl =\n",
              "        document.querySelector('#df-d76e5f9f-ffe8-4791-8ee0-0c49d2536c49 button');\n",
              "      quickchartButtonEl.style.display =\n",
              "        google.colab.kernel.accessAllowed ? 'block' : 'none';\n",
              "    })();\n",
              "  </script>\n",
              "</div>\n",
              "\n",
              "    </div>\n",
              "  </div>\n"
            ],
            "application/vnd.google.colaboratory.intrinsic+json": {
              "type": "dataframe",
              "variable_name": "df"
            }
          },
          "metadata": {},
          "execution_count": 7
        }
      ],
      "source": [
        "df.head()"
      ]
    },
    {
      "cell_type": "code",
      "source": [],
      "metadata": {
        "id": "3TQvcax9IGc8"
      },
      "execution_count": null,
      "outputs": []
    },
    {
      "cell_type": "markdown",
      "metadata": {
        "id": "cwCa0HJY2wZ5"
      },
      "source": [
        "## Find out the number of rows and columns(Découvrez le nombre de lignes et de colonnes.)\n"
      ]
    },
    {
      "cell_type": "markdown",
      "metadata": {
        "id": "0l5G4xvb2wZ6"
      },
      "source": [
        "\n",
        "Start by exploring the numbers of rows and columns of data in the dataset\n",
        "\n",
        "Commencez par explorer le nombre de lignes et de colonnes de données dans l’ensemble de données.\n"
      ]
    },
    {
      "cell_type": "markdown",
      "metadata": {
        "id": "WUs_OQQp2wZ8"
      },
      "source": [
        "Print the number of rows in the dataset.\n"
      ]
    },
    {
      "cell_type": "code",
      "source": [
        "df.shape[0]"
      ],
      "metadata": {
        "colab": {
          "base_uri": "https://localhost:8080/"
        },
        "id": "9evR_h_PHxNO",
        "outputId": "a5d743ee-bfda-4398-9f3d-fadd13a16445"
      },
      "execution_count": 11,
      "outputs": [
        {
          "output_type": "execute_result",
          "data": {
            "text/plain": [
              "65437"
            ]
          },
          "metadata": {},
          "execution_count": 11
        }
      ]
    },
    {
      "cell_type": "code",
      "execution_count": 10,
      "metadata": {
        "colab": {
          "base_uri": "https://localhost:8080/",
          "height": 326
        },
        "id": "5M7d0JVV2wZ9",
        "outputId": "25dd75c6-4313-40f2-e4b5-9a91b3cad5de"
      },
      "outputs": [
        {
          "output_type": "execute_result",
          "data": {
            "text/plain": [
              "         ResponseId      CompTotal       WorkExp  JobSatPoints_1  \\\n",
              "count  65437.000000   3.374000e+04  29658.000000    29324.000000   \n",
              "mean   32719.000000  2.963841e+145     11.466957       18.581094   \n",
              "std    18890.179119  5.444117e+147      9.168709       25.966221   \n",
              "min        1.000000   0.000000e+00      0.000000        0.000000   \n",
              "25%    16360.000000   6.000000e+04      4.000000        0.000000   \n",
              "50%    32719.000000   1.100000e+05      9.000000       10.000000   \n",
              "75%    49078.000000   2.500000e+05     16.000000       22.000000   \n",
              "max    65437.000000  1.000000e+150     50.000000      100.000000   \n",
              "\n",
              "       JobSatPoints_4  JobSatPoints_5  JobSatPoints_6  JobSatPoints_7  \\\n",
              "count    29393.000000    29411.000000    29450.000000     29448.00000   \n",
              "mean         7.522140       10.060857       24.343232        22.96522   \n",
              "std         18.422661       21.833836       27.089360        27.01774   \n",
              "min          0.000000        0.000000        0.000000         0.00000   \n",
              "25%          0.000000        0.000000        0.000000         0.00000   \n",
              "50%          0.000000        0.000000       20.000000        15.00000   \n",
              "75%          5.000000       10.000000       30.000000        30.00000   \n",
              "max        100.000000      100.000000      100.000000       100.00000   \n",
              "\n",
              "       JobSatPoints_8  JobSatPoints_9  JobSatPoints_10  JobSatPoints_11  \\\n",
              "count    29456.000000    29456.000000     29450.000000     29445.000000   \n",
              "mean        20.278165       16.169432        10.955713         9.953948   \n",
              "std         26.108110       24.845032        22.906263        21.775652   \n",
              "min          0.000000        0.000000         0.000000         0.000000   \n",
              "25%          0.000000        0.000000         0.000000         0.000000   \n",
              "50%         10.000000        5.000000         0.000000         0.000000   \n",
              "75%         25.000000       20.000000        10.000000        10.000000   \n",
              "max        100.000000      100.000000       100.000000       100.000000   \n",
              "\n",
              "       ConvertedCompYearly        JobSat  \n",
              "count         2.343500e+04  29126.000000  \n",
              "mean          8.615529e+04      6.935041  \n",
              "std           1.867570e+05      2.088259  \n",
              "min           1.000000e+00      0.000000  \n",
              "25%           3.271200e+04      6.000000  \n",
              "50%           6.500000e+04      7.000000  \n",
              "75%           1.079715e+05      8.000000  \n",
              "max           1.625660e+07     10.000000  "
            ],
            "text/html": [
              "\n",
              "  <div id=\"df-9bd5b5e6-11d1-49f5-aa73-51ced90285f0\" class=\"colab-df-container\">\n",
              "    <div>\n",
              "<style scoped>\n",
              "    .dataframe tbody tr th:only-of-type {\n",
              "        vertical-align: middle;\n",
              "    }\n",
              "\n",
              "    .dataframe tbody tr th {\n",
              "        vertical-align: top;\n",
              "    }\n",
              "\n",
              "    .dataframe thead th {\n",
              "        text-align: right;\n",
              "    }\n",
              "</style>\n",
              "<table border=\"1\" class=\"dataframe\">\n",
              "  <thead>\n",
              "    <tr style=\"text-align: right;\">\n",
              "      <th></th>\n",
              "      <th>ResponseId</th>\n",
              "      <th>CompTotal</th>\n",
              "      <th>WorkExp</th>\n",
              "      <th>JobSatPoints_1</th>\n",
              "      <th>JobSatPoints_4</th>\n",
              "      <th>JobSatPoints_5</th>\n",
              "      <th>JobSatPoints_6</th>\n",
              "      <th>JobSatPoints_7</th>\n",
              "      <th>JobSatPoints_8</th>\n",
              "      <th>JobSatPoints_9</th>\n",
              "      <th>JobSatPoints_10</th>\n",
              "      <th>JobSatPoints_11</th>\n",
              "      <th>ConvertedCompYearly</th>\n",
              "      <th>JobSat</th>\n",
              "    </tr>\n",
              "  </thead>\n",
              "  <tbody>\n",
              "    <tr>\n",
              "      <th>count</th>\n",
              "      <td>65437.000000</td>\n",
              "      <td>3.374000e+04</td>\n",
              "      <td>29658.000000</td>\n",
              "      <td>29324.000000</td>\n",
              "      <td>29393.000000</td>\n",
              "      <td>29411.000000</td>\n",
              "      <td>29450.000000</td>\n",
              "      <td>29448.00000</td>\n",
              "      <td>29456.000000</td>\n",
              "      <td>29456.000000</td>\n",
              "      <td>29450.000000</td>\n",
              "      <td>29445.000000</td>\n",
              "      <td>2.343500e+04</td>\n",
              "      <td>29126.000000</td>\n",
              "    </tr>\n",
              "    <tr>\n",
              "      <th>mean</th>\n",
              "      <td>32719.000000</td>\n",
              "      <td>2.963841e+145</td>\n",
              "      <td>11.466957</td>\n",
              "      <td>18.581094</td>\n",
              "      <td>7.522140</td>\n",
              "      <td>10.060857</td>\n",
              "      <td>24.343232</td>\n",
              "      <td>22.96522</td>\n",
              "      <td>20.278165</td>\n",
              "      <td>16.169432</td>\n",
              "      <td>10.955713</td>\n",
              "      <td>9.953948</td>\n",
              "      <td>8.615529e+04</td>\n",
              "      <td>6.935041</td>\n",
              "    </tr>\n",
              "    <tr>\n",
              "      <th>std</th>\n",
              "      <td>18890.179119</td>\n",
              "      <td>5.444117e+147</td>\n",
              "      <td>9.168709</td>\n",
              "      <td>25.966221</td>\n",
              "      <td>18.422661</td>\n",
              "      <td>21.833836</td>\n",
              "      <td>27.089360</td>\n",
              "      <td>27.01774</td>\n",
              "      <td>26.108110</td>\n",
              "      <td>24.845032</td>\n",
              "      <td>22.906263</td>\n",
              "      <td>21.775652</td>\n",
              "      <td>1.867570e+05</td>\n",
              "      <td>2.088259</td>\n",
              "    </tr>\n",
              "    <tr>\n",
              "      <th>min</th>\n",
              "      <td>1.000000</td>\n",
              "      <td>0.000000e+00</td>\n",
              "      <td>0.000000</td>\n",
              "      <td>0.000000</td>\n",
              "      <td>0.000000</td>\n",
              "      <td>0.000000</td>\n",
              "      <td>0.000000</td>\n",
              "      <td>0.00000</td>\n",
              "      <td>0.000000</td>\n",
              "      <td>0.000000</td>\n",
              "      <td>0.000000</td>\n",
              "      <td>0.000000</td>\n",
              "      <td>1.000000e+00</td>\n",
              "      <td>0.000000</td>\n",
              "    </tr>\n",
              "    <tr>\n",
              "      <th>25%</th>\n",
              "      <td>16360.000000</td>\n",
              "      <td>6.000000e+04</td>\n",
              "      <td>4.000000</td>\n",
              "      <td>0.000000</td>\n",
              "      <td>0.000000</td>\n",
              "      <td>0.000000</td>\n",
              "      <td>0.000000</td>\n",
              "      <td>0.00000</td>\n",
              "      <td>0.000000</td>\n",
              "      <td>0.000000</td>\n",
              "      <td>0.000000</td>\n",
              "      <td>0.000000</td>\n",
              "      <td>3.271200e+04</td>\n",
              "      <td>6.000000</td>\n",
              "    </tr>\n",
              "    <tr>\n",
              "      <th>50%</th>\n",
              "      <td>32719.000000</td>\n",
              "      <td>1.100000e+05</td>\n",
              "      <td>9.000000</td>\n",
              "      <td>10.000000</td>\n",
              "      <td>0.000000</td>\n",
              "      <td>0.000000</td>\n",
              "      <td>20.000000</td>\n",
              "      <td>15.00000</td>\n",
              "      <td>10.000000</td>\n",
              "      <td>5.000000</td>\n",
              "      <td>0.000000</td>\n",
              "      <td>0.000000</td>\n",
              "      <td>6.500000e+04</td>\n",
              "      <td>7.000000</td>\n",
              "    </tr>\n",
              "    <tr>\n",
              "      <th>75%</th>\n",
              "      <td>49078.000000</td>\n",
              "      <td>2.500000e+05</td>\n",
              "      <td>16.000000</td>\n",
              "      <td>22.000000</td>\n",
              "      <td>5.000000</td>\n",
              "      <td>10.000000</td>\n",
              "      <td>30.000000</td>\n",
              "      <td>30.00000</td>\n",
              "      <td>25.000000</td>\n",
              "      <td>20.000000</td>\n",
              "      <td>10.000000</td>\n",
              "      <td>10.000000</td>\n",
              "      <td>1.079715e+05</td>\n",
              "      <td>8.000000</td>\n",
              "    </tr>\n",
              "    <tr>\n",
              "      <th>max</th>\n",
              "      <td>65437.000000</td>\n",
              "      <td>1.000000e+150</td>\n",
              "      <td>50.000000</td>\n",
              "      <td>100.000000</td>\n",
              "      <td>100.000000</td>\n",
              "      <td>100.000000</td>\n",
              "      <td>100.000000</td>\n",
              "      <td>100.00000</td>\n",
              "      <td>100.000000</td>\n",
              "      <td>100.000000</td>\n",
              "      <td>100.000000</td>\n",
              "      <td>100.000000</td>\n",
              "      <td>1.625660e+07</td>\n",
              "      <td>10.000000</td>\n",
              "    </tr>\n",
              "  </tbody>\n",
              "</table>\n",
              "</div>\n",
              "    <div class=\"colab-df-buttons\">\n",
              "\n",
              "  <div class=\"colab-df-container\">\n",
              "    <button class=\"colab-df-convert\" onclick=\"convertToInteractive('df-9bd5b5e6-11d1-49f5-aa73-51ced90285f0')\"\n",
              "            title=\"Convert this dataframe to an interactive table.\"\n",
              "            style=\"display:none;\">\n",
              "\n",
              "  <svg xmlns=\"http://www.w3.org/2000/svg\" height=\"24px\" viewBox=\"0 -960 960 960\">\n",
              "    <path d=\"M120-120v-720h720v720H120Zm60-500h600v-160H180v160Zm220 220h160v-160H400v160Zm0 220h160v-160H400v160ZM180-400h160v-160H180v160Zm440 0h160v-160H620v160ZM180-180h160v-160H180v160Zm440 0h160v-160H620v160Z\"/>\n",
              "  </svg>\n",
              "    </button>\n",
              "\n",
              "  <style>\n",
              "    .colab-df-container {\n",
              "      display:flex;\n",
              "      gap: 12px;\n",
              "    }\n",
              "\n",
              "    .colab-df-convert {\n",
              "      background-color: #E8F0FE;\n",
              "      border: none;\n",
              "      border-radius: 50%;\n",
              "      cursor: pointer;\n",
              "      display: none;\n",
              "      fill: #1967D2;\n",
              "      height: 32px;\n",
              "      padding: 0 0 0 0;\n",
              "      width: 32px;\n",
              "    }\n",
              "\n",
              "    .colab-df-convert:hover {\n",
              "      background-color: #E2EBFA;\n",
              "      box-shadow: 0px 1px 2px rgba(60, 64, 67, 0.3), 0px 1px 3px 1px rgba(60, 64, 67, 0.15);\n",
              "      fill: #174EA6;\n",
              "    }\n",
              "\n",
              "    .colab-df-buttons div {\n",
              "      margin-bottom: 4px;\n",
              "    }\n",
              "\n",
              "    [theme=dark] .colab-df-convert {\n",
              "      background-color: #3B4455;\n",
              "      fill: #D2E3FC;\n",
              "    }\n",
              "\n",
              "    [theme=dark] .colab-df-convert:hover {\n",
              "      background-color: #434B5C;\n",
              "      box-shadow: 0px 1px 3px 1px rgba(0, 0, 0, 0.15);\n",
              "      filter: drop-shadow(0px 1px 2px rgba(0, 0, 0, 0.3));\n",
              "      fill: #FFFFFF;\n",
              "    }\n",
              "  </style>\n",
              "\n",
              "    <script>\n",
              "      const buttonEl =\n",
              "        document.querySelector('#df-9bd5b5e6-11d1-49f5-aa73-51ced90285f0 button.colab-df-convert');\n",
              "      buttonEl.style.display =\n",
              "        google.colab.kernel.accessAllowed ? 'block' : 'none';\n",
              "\n",
              "      async function convertToInteractive(key) {\n",
              "        const element = document.querySelector('#df-9bd5b5e6-11d1-49f5-aa73-51ced90285f0');\n",
              "        const dataTable =\n",
              "          await google.colab.kernel.invokeFunction('convertToInteractive',\n",
              "                                                    [key], {});\n",
              "        if (!dataTable) return;\n",
              "\n",
              "        const docLinkHtml = 'Like what you see? Visit the ' +\n",
              "          '<a target=\"_blank\" href=https://colab.research.google.com/notebooks/data_table.ipynb>data table notebook</a>'\n",
              "          + ' to learn more about interactive tables.';\n",
              "        element.innerHTML = '';\n",
              "        dataTable['output_type'] = 'display_data';\n",
              "        await google.colab.output.renderOutput(dataTable, element);\n",
              "        const docLink = document.createElement('div');\n",
              "        docLink.innerHTML = docLinkHtml;\n",
              "        element.appendChild(docLink);\n",
              "      }\n",
              "    </script>\n",
              "  </div>\n",
              "\n",
              "\n",
              "<div id=\"df-4b687a11-0df1-45a9-b155-da275bbcb589\">\n",
              "  <button class=\"colab-df-quickchart\" onclick=\"quickchart('df-4b687a11-0df1-45a9-b155-da275bbcb589')\"\n",
              "            title=\"Suggest charts\"\n",
              "            style=\"display:none;\">\n",
              "\n",
              "<svg xmlns=\"http://www.w3.org/2000/svg\" height=\"24px\"viewBox=\"0 0 24 24\"\n",
              "     width=\"24px\">\n",
              "    <g>\n",
              "        <path d=\"M19 3H5c-1.1 0-2 .9-2 2v14c0 1.1.9 2 2 2h14c1.1 0 2-.9 2-2V5c0-1.1-.9-2-2-2zM9 17H7v-7h2v7zm4 0h-2V7h2v10zm4 0h-2v-4h2v4z\"/>\n",
              "    </g>\n",
              "</svg>\n",
              "  </button>\n",
              "\n",
              "<style>\n",
              "  .colab-df-quickchart {\n",
              "      --bg-color: #E8F0FE;\n",
              "      --fill-color: #1967D2;\n",
              "      --hover-bg-color: #E2EBFA;\n",
              "      --hover-fill-color: #174EA6;\n",
              "      --disabled-fill-color: #AAA;\n",
              "      --disabled-bg-color: #DDD;\n",
              "  }\n",
              "\n",
              "  [theme=dark] .colab-df-quickchart {\n",
              "      --bg-color: #3B4455;\n",
              "      --fill-color: #D2E3FC;\n",
              "      --hover-bg-color: #434B5C;\n",
              "      --hover-fill-color: #FFFFFF;\n",
              "      --disabled-bg-color: #3B4455;\n",
              "      --disabled-fill-color: #666;\n",
              "  }\n",
              "\n",
              "  .colab-df-quickchart {\n",
              "    background-color: var(--bg-color);\n",
              "    border: none;\n",
              "    border-radius: 50%;\n",
              "    cursor: pointer;\n",
              "    display: none;\n",
              "    fill: var(--fill-color);\n",
              "    height: 32px;\n",
              "    padding: 0;\n",
              "    width: 32px;\n",
              "  }\n",
              "\n",
              "  .colab-df-quickchart:hover {\n",
              "    background-color: var(--hover-bg-color);\n",
              "    box-shadow: 0 1px 2px rgba(60, 64, 67, 0.3), 0 1px 3px 1px rgba(60, 64, 67, 0.15);\n",
              "    fill: var(--button-hover-fill-color);\n",
              "  }\n",
              "\n",
              "  .colab-df-quickchart-complete:disabled,\n",
              "  .colab-df-quickchart-complete:disabled:hover {\n",
              "    background-color: var(--disabled-bg-color);\n",
              "    fill: var(--disabled-fill-color);\n",
              "    box-shadow: none;\n",
              "  }\n",
              "\n",
              "  .colab-df-spinner {\n",
              "    border: 2px solid var(--fill-color);\n",
              "    border-color: transparent;\n",
              "    border-bottom-color: var(--fill-color);\n",
              "    animation:\n",
              "      spin 1s steps(1) infinite;\n",
              "  }\n",
              "\n",
              "  @keyframes spin {\n",
              "    0% {\n",
              "      border-color: transparent;\n",
              "      border-bottom-color: var(--fill-color);\n",
              "      border-left-color: var(--fill-color);\n",
              "    }\n",
              "    20% {\n",
              "      border-color: transparent;\n",
              "      border-left-color: var(--fill-color);\n",
              "      border-top-color: var(--fill-color);\n",
              "    }\n",
              "    30% {\n",
              "      border-color: transparent;\n",
              "      border-left-color: var(--fill-color);\n",
              "      border-top-color: var(--fill-color);\n",
              "      border-right-color: var(--fill-color);\n",
              "    }\n",
              "    40% {\n",
              "      border-color: transparent;\n",
              "      border-right-color: var(--fill-color);\n",
              "      border-top-color: var(--fill-color);\n",
              "    }\n",
              "    60% {\n",
              "      border-color: transparent;\n",
              "      border-right-color: var(--fill-color);\n",
              "    }\n",
              "    80% {\n",
              "      border-color: transparent;\n",
              "      border-right-color: var(--fill-color);\n",
              "      border-bottom-color: var(--fill-color);\n",
              "    }\n",
              "    90% {\n",
              "      border-color: transparent;\n",
              "      border-bottom-color: var(--fill-color);\n",
              "    }\n",
              "  }\n",
              "</style>\n",
              "\n",
              "  <script>\n",
              "    async function quickchart(key) {\n",
              "      const quickchartButtonEl =\n",
              "        document.querySelector('#' + key + ' button');\n",
              "      quickchartButtonEl.disabled = true;  // To prevent multiple clicks.\n",
              "      quickchartButtonEl.classList.add('colab-df-spinner');\n",
              "      try {\n",
              "        const charts = await google.colab.kernel.invokeFunction(\n",
              "            'suggestCharts', [key], {});\n",
              "      } catch (error) {\n",
              "        console.error('Error during call to suggestCharts:', error);\n",
              "      }\n",
              "      quickchartButtonEl.classList.remove('colab-df-spinner');\n",
              "      quickchartButtonEl.classList.add('colab-df-quickchart-complete');\n",
              "    }\n",
              "    (() => {\n",
              "      let quickchartButtonEl =\n",
              "        document.querySelector('#df-4b687a11-0df1-45a9-b155-da275bbcb589 button');\n",
              "      quickchartButtonEl.style.display =\n",
              "        google.colab.kernel.accessAllowed ? 'block' : 'none';\n",
              "    })();\n",
              "  </script>\n",
              "</div>\n",
              "\n",
              "    </div>\n",
              "  </div>\n"
            ],
            "application/vnd.google.colaboratory.intrinsic+json": {
              "type": "dataframe",
              "summary": "{\n  \"name\": \"df\",\n  \"rows\": 8,\n  \"fields\": [\n    {\n      \"column\": \"ResponseId\",\n      \"properties\": {\n        \"dtype\": \"number\",\n        \"std\": 23583.506600312834,\n        \"min\": 1.0,\n        \"max\": 65437.0,\n        \"num_unique_values\": 6,\n        \"samples\": [\n          65437.0,\n          32719.0,\n          49078.0\n        ],\n        \"semantic_type\": \"\",\n        \"description\": \"\"\n      }\n    },\n    {\n      \"column\": \"CompTotal\",\n      \"properties\": {\n        \"dtype\": \"number\",\n        \"std\": 3.532820514532692e+149,\n        \"min\": 0.0,\n        \"max\": 1.0000000000000002e+150,\n        \"num_unique_values\": 8,\n        \"samples\": [\n          2.9638411381149976e+145,\n          110000.0,\n          33740.0\n        ],\n        \"semantic_type\": \"\",\n        \"description\": \"\"\n      }\n    },\n    {\n      \"column\": \"WorkExp\",\n      \"properties\": {\n        \"dtype\": \"number\",\n        \"std\": 10480.665344941794,\n        \"min\": 0.0,\n        \"max\": 29658.0,\n        \"num_unique_values\": 8,\n        \"samples\": [\n          11.46695663901814,\n          9.0,\n          29658.0\n        ],\n        \"semantic_type\": \"\",\n        \"description\": \"\"\n      }\n    },\n    {\n      \"column\": \"JobSatPoints_1\",\n      \"properties\": {\n        \"dtype\": \"number\",\n        \"std\": 10358.731948134116,\n        \"min\": 0.0,\n        \"max\": 29324.0,\n        \"num_unique_values\": 7,\n        \"samples\": [\n          29324.0,\n          18.5810939844496,\n          22.0\n        ],\n        \"semantic_type\": \"\",\n        \"description\": \"\"\n      }\n    },\n    {\n      \"column\": \"JobSatPoints_4\",\n      \"properties\": {\n        \"dtype\": \"number\",\n        \"std\": 10385.435924588386,\n        \"min\": 0.0,\n        \"max\": 29393.0,\n        \"num_unique_values\": 6,\n        \"samples\": [\n          29393.0,\n          7.5221396250808015,\n          100.0\n        ],\n        \"semantic_type\": \"\",\n        \"description\": \"\"\n      }\n    },\n    {\n      \"column\": \"JobSatPoints_5\",\n      \"properties\": {\n        \"dtype\": \"number\",\n        \"std\": 10391.24563442252,\n        \"min\": 0.0,\n        \"max\": 29411.0,\n        \"num_unique_values\": 6,\n        \"samples\": [\n          29411.0,\n          10.06085733229064,\n          100.0\n        ],\n        \"semantic_type\": \"\",\n        \"description\": \"\"\n      }\n    },\n    {\n      \"column\": \"JobSatPoints_6\",\n      \"properties\": {\n        \"dtype\": \"number\",\n        \"std\": 10402.020370937267,\n        \"min\": 0.0,\n        \"max\": 29450.0,\n        \"num_unique_values\": 7,\n        \"samples\": [\n          29450.0,\n          24.34323191850594,\n          30.0\n        ],\n        \"semantic_type\": \"\",\n        \"description\": \"\"\n      }\n    },\n    {\n      \"column\": \"JobSatPoints_7\",\n      \"properties\": {\n        \"dtype\": \"number\",\n        \"std\": 10401.639853643328,\n        \"min\": 0.0,\n        \"max\": 29448.0,\n        \"num_unique_values\": 7,\n        \"samples\": [\n          29448.0,\n          22.965220218690572,\n          30.0\n        ],\n        \"semantic_type\": \"\",\n        \"description\": \"\"\n      }\n    },\n    {\n      \"column\": \"JobSatPoints_8\",\n      \"properties\": {\n        \"dtype\": \"number\",\n        \"std\": 10405.156144112068,\n        \"min\": 0.0,\n        \"max\": 29456.0,\n        \"num_unique_values\": 7,\n        \"samples\": [\n          29456.0,\n          20.278165059750137,\n          25.0\n        ],\n        \"semantic_type\": \"\",\n        \"description\": \"\"\n      }\n    },\n    {\n      \"column\": \"JobSatPoints_9\",\n      \"properties\": {\n        \"dtype\": \"number\",\n        \"std\": 10405.934241772171,\n        \"min\": 0.0,\n        \"max\": 29456.0,\n        \"num_unique_values\": 7,\n        \"samples\": [\n          29456.0,\n          16.169432373709938,\n          20.0\n        ],\n        \"semantic_type\": \"\",\n        \"description\": \"\"\n      }\n    },\n    {\n      \"column\": \"JobSatPoints_10\",\n      \"properties\": {\n        \"dtype\": \"number\",\n        \"std\": 10404.934690499524,\n        \"min\": 0.0,\n        \"max\": 29450.0,\n        \"num_unique_values\": 6,\n        \"samples\": [\n          29450.0,\n          10.955713073005093,\n          100.0\n        ],\n        \"semantic_type\": \"\",\n        \"description\": \"\"\n      }\n    },\n    {\n      \"column\": \"JobSatPoints_11\",\n      \"properties\": {\n        \"dtype\": \"number\",\n        \"std\": 10403.274739988723,\n        \"min\": 0.0,\n        \"max\": 29445.0,\n        \"num_unique_values\": 6,\n        \"samples\": [\n          29445.0,\n          9.95394803871625,\n          100.0\n        ],\n        \"semantic_type\": \"\",\n        \"description\": \"\"\n      }\n    },\n    {\n      \"column\": \"ConvertedCompYearly\",\n      \"properties\": {\n        \"dtype\": \"number\",\n        \"std\": 5722517.730613035,\n        \"min\": 1.0,\n        \"max\": 16256603.0,\n        \"num_unique_values\": 8,\n        \"samples\": [\n          86155.28726264134,\n          65000.0,\n          23435.0\n        ],\n        \"semantic_type\": \"\",\n        \"description\": \"\"\n      }\n    },\n    {\n      \"column\": \"JobSat\",\n      \"properties\": {\n        \"dtype\": \"number\",\n        \"std\": 10295.57507629671,\n        \"min\": 0.0,\n        \"max\": 29126.0,\n        \"num_unique_values\": 8,\n        \"samples\": [\n          6.9350408569662845,\n          7.0,\n          29126.0\n        ],\n        \"semantic_type\": \"\",\n        \"description\": \"\"\n      }\n    }\n  ]\n}"
            }
          },
          "metadata": {},
          "execution_count": 10
        }
      ],
      "source": [
        "df.describe()"
      ]
    },
    {
      "cell_type": "markdown",
      "metadata": {
        "id": "dD-2GxyI2wZ-"
      },
      "source": [
        "Print the number of columns in the dataset.\n"
      ]
    },
    {
      "cell_type": "code",
      "execution_count": 13,
      "metadata": {
        "colab": {
          "base_uri": "https://localhost:8080/"
        },
        "id": "-_np0Kk82wZ_",
        "outputId": "52a48344-1f9e-48a1-9cc6-58210452cf0f"
      },
      "outputs": [
        {
          "output_type": "execute_result",
          "data": {
            "text/plain": [
              "114"
            ]
          },
          "metadata": {},
          "execution_count": 13
        }
      ],
      "source": [
        "df.shape[1]"
      ]
    },
    {
      "cell_type": "markdown",
      "metadata": {
        "id": "PwyP0J312waA"
      },
      "source": [
        "## Identify the data types of each column\n"
      ]
    },
    {
      "cell_type": "markdown",
      "metadata": {
        "id": "-pj_GOhD2waB"
      },
      "source": [
        "Explore the dataset and identify the data types of each column.\n"
      ]
    },
    {
      "cell_type": "markdown",
      "metadata": {
        "id": "scAxwSed2waB"
      },
      "source": [
        "Print the datatype of all columns.\n"
      ]
    },
    {
      "cell_type": "code",
      "execution_count": 14,
      "metadata": {
        "colab": {
          "base_uri": "https://localhost:8080/",
          "height": 458
        },
        "id": "Xz_uLbKy2waC",
        "outputId": "adbb4598-db73-4ba7-9a3f-82b84a92ce87"
      },
      "outputs": [
        {
          "output_type": "execute_result",
          "data": {
            "text/plain": [
              "ResponseId               int64\n",
              "MainBranch              object\n",
              "Age                     object\n",
              "Employment              object\n",
              "RemoteWork              object\n",
              "                        ...   \n",
              "JobSatPoints_11        float64\n",
              "SurveyLength            object\n",
              "SurveyEase              object\n",
              "ConvertedCompYearly    float64\n",
              "JobSat                 float64\n",
              "Length: 114, dtype: object"
            ],
            "text/html": [
              "<div>\n",
              "<style scoped>\n",
              "    .dataframe tbody tr th:only-of-type {\n",
              "        vertical-align: middle;\n",
              "    }\n",
              "\n",
              "    .dataframe tbody tr th {\n",
              "        vertical-align: top;\n",
              "    }\n",
              "\n",
              "    .dataframe thead th {\n",
              "        text-align: right;\n",
              "    }\n",
              "</style>\n",
              "<table border=\"1\" class=\"dataframe\">\n",
              "  <thead>\n",
              "    <tr style=\"text-align: right;\">\n",
              "      <th></th>\n",
              "      <th>0</th>\n",
              "    </tr>\n",
              "  </thead>\n",
              "  <tbody>\n",
              "    <tr>\n",
              "      <th>ResponseId</th>\n",
              "      <td>int64</td>\n",
              "    </tr>\n",
              "    <tr>\n",
              "      <th>MainBranch</th>\n",
              "      <td>object</td>\n",
              "    </tr>\n",
              "    <tr>\n",
              "      <th>Age</th>\n",
              "      <td>object</td>\n",
              "    </tr>\n",
              "    <tr>\n",
              "      <th>Employment</th>\n",
              "      <td>object</td>\n",
              "    </tr>\n",
              "    <tr>\n",
              "      <th>RemoteWork</th>\n",
              "      <td>object</td>\n",
              "    </tr>\n",
              "    <tr>\n",
              "      <th>...</th>\n",
              "      <td>...</td>\n",
              "    </tr>\n",
              "    <tr>\n",
              "      <th>JobSatPoints_11</th>\n",
              "      <td>float64</td>\n",
              "    </tr>\n",
              "    <tr>\n",
              "      <th>SurveyLength</th>\n",
              "      <td>object</td>\n",
              "    </tr>\n",
              "    <tr>\n",
              "      <th>SurveyEase</th>\n",
              "      <td>object</td>\n",
              "    </tr>\n",
              "    <tr>\n",
              "      <th>ConvertedCompYearly</th>\n",
              "      <td>float64</td>\n",
              "    </tr>\n",
              "    <tr>\n",
              "      <th>JobSat</th>\n",
              "      <td>float64</td>\n",
              "    </tr>\n",
              "  </tbody>\n",
              "</table>\n",
              "<p>114 rows × 1 columns</p>\n",
              "</div><br><label><b>dtype:</b> object</label>"
            ]
          },
          "metadata": {},
          "execution_count": 14
        }
      ],
      "source": [
        "df.dtypes"
      ]
    },
    {
      "cell_type": "markdown",
      "metadata": {
        "id": "iqDxQU3C2waC"
      },
      "source": [
        "Print the mean age of the survey participants.\n"
      ]
    },
    {
      "cell_type": "code",
      "source": [
        "df['Age'].mean()"
      ],
      "metadata": {
        "colab": {
          "base_uri": "https://localhost:8080/"
        },
        "collapsed": true,
        "id": "eMYqa3_bL_xM",
        "outputId": "cccb358c-4da9-4c37-de53-fe842b9ed455"
      },
      "execution_count": 30,
      "outputs": [
        {
          "output_type": "execute_result",
          "data": {
            "text/plain": [
              "nan"
            ]
          },
          "metadata": {},
          "execution_count": 30
        }
      ]
    },
    {
      "cell_type": "code",
      "execution_count": 24,
      "metadata": {
        "colab": {
          "base_uri": "https://localhost:8080/"
        },
        "id": "s6TQ-OEz2waD",
        "outputId": "e47e0f12-2597-4026-cb29-a34148e2115a"
      },
      "outputs": [
        {
          "output_type": "stream",
          "name": "stdout",
          "text": [
            "Valeurs uniques avant conversion : ['Under 18 years old' '35-44 years old' '45-54 years old'\n",
            " '18-24 years old' '25-34 years old' '55-64 years old' 'Prefer not to say'\n",
            " '65 years or older']\n",
            "Valeurs uniques après conversion : [nan]\n",
            "Moyenne de l'âge : nan\n"
          ]
        }
      ],
      "source": [
        "import pandas as pd\n",
        "\n",
        "# Examiner les valeurs uniques de la colonne 'Age'\n",
        "print(\"Valeurs uniques avant conversion :\", df['Age'].unique())\n",
        "\n",
        "# Convertir la colonne 'Age' en numérique (force les erreurs en NaN)\n",
        "df['Age'] = pd.to_numeric(df['Age'], errors='coerce')\n",
        "\n",
        "# Afficher les valeurs uniques après conversion\n",
        "print(\"Valeurs uniques après conversion :\", df['Age'].unique())\n",
        "\n",
        "# Supprimer ou ignorer les valeurs manquantes avant le calcul\n",
        "mean_age = df['Age'].dropna().mean()\n",
        "print(\"Moyenne de l'âge :\", mean_age)\n"
      ]
    },
    {
      "cell_type": "code",
      "source": [
        "import pandas as pd\n",
        "\n",
        "# Exemple de données\n",
        "data = {'Age': ['18', '30', 'unknown', '45', 'N/A', '65']}\n",
        "df = pd.DataFrame(data)\n",
        "\n",
        "print(\"Données initiales :\")\n",
        "print(df)\n",
        "\n",
        "# Conversion en numérique (remplace les non-numériques par NaN)\n",
        "df['Age'] = pd.to_numeric(df['Age'], errors='coerce')\n",
        "\n",
        "# Calcul de la moyenne en ignorant les NaN\n",
        "mean_age = df['Age'].mean()\n",
        "\n",
        "print(\"\\nDonnées après conversion :\")\n",
        "print(df)\n",
        "print(\"\\nMoyenne de l'âge :\", mean_age)\n"
      ],
      "metadata": {
        "colab": {
          "base_uri": "https://localhost:8080/"
        },
        "id": "fQrULUvCR_mn",
        "outputId": "a8f8f3c0-f208-43e9-85d7-aedac7847d05"
      },
      "execution_count": 37,
      "outputs": [
        {
          "output_type": "stream",
          "name": "stdout",
          "text": [
            "Données initiales :\n",
            "       Age\n",
            "0       18\n",
            "1       30\n",
            "2  unknown\n",
            "3       45\n",
            "4      N/A\n",
            "5       65\n",
            "\n",
            "Données après conversion :\n",
            "    Age\n",
            "0  18.0\n",
            "1  30.0\n",
            "2   NaN\n",
            "3  45.0\n",
            "4   NaN\n",
            "5  65.0\n",
            "\n",
            "Moyenne de l'âge : 39.5\n"
          ]
        }
      ]
    },
    {
      "cell_type": "markdown",
      "metadata": {
        "id": "KsS_vcgw2waE"
      },
      "source": [
        "The dataset is the result of a world wide survey. Print how many unique countries are there in the Country column.\n",
        "\n",
        "L’ensemble de données est le résultat d’une enquête mondiale. Imprimez le nombre de pays uniques dans la colonne Pays.\n"
      ]
    },
    {
      "cell_type": "code",
      "execution_count": 31,
      "metadata": {
        "colab": {
          "base_uri": "https://localhost:8080/"
        },
        "id": "tSLCfZ3A2waE",
        "outputId": "9eb4004b-e612-48cc-e9bc-ca645fb3cfba"
      },
      "outputs": [
        {
          "output_type": "execute_result",
          "data": {
            "text/plain": [
              "185"
            ]
          },
          "metadata": {},
          "execution_count": 31
        }
      ],
      "source": [
        "df['Country'].nunique()"
      ]
    },
    {
      "cell_type": "markdown",
      "source": [],
      "metadata": {
        "id": "78s_G0QeNpzo"
      }
    },
    {
      "cell_type": "markdown",
      "metadata": {
        "id": "kWcSpBgk2waF"
      },
      "source": [
        "<!--\n",
        "## Change Log\n",
        "|Date (YYYY-MM-DD)|Version|Changed By|Change Description|\n",
        "|-|-|-|-|\n",
        "|2024-10-29|3.0|Madhusudhan|Updated lab|\n",
        "|2024-09-23|2.0|Madhusudhan|Updated lab|\n",
        "|2024-09-22|1.0|Raghul Ramesh|Created lab|\n",
        "--!>\n"
      ]
    },
    {
      "cell_type": "markdown",
      "metadata": {
        "id": "uhxPAMWI2waG"
      },
      "source": [
        "Copyright ©  IBM Corporation. All rights reserved.\n"
      ]
    }
  ],
  "metadata": {
    "kernelspec": {
      "display_name": "Python 3 (ipykernel)",
      "language": "python",
      "name": "python3"
    },
    "language_info": {
      "codemirror_mode": {
        "name": "ipython",
        "version": 3
      },
      "file_extension": ".py",
      "mimetype": "text/x-python",
      "name": "python",
      "nbconvert_exporter": "python",
      "pygments_lexer": "ipython3",
      "version": "3.12.4"
    },
    "prev_pub_hash": "bedd3aee3a13510f42e8f2d452448a778151a18ce4b7e4d854c4c56f9dea7a3b",
    "colab": {
      "provenance": [],
      "toc_visible": true
    }
  },
  "nbformat": 4,
  "nbformat_minor": 0
}