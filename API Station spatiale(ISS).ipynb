{
 "cells": [
  {
   "cell_type": "markdown",
   "id": "0cb0aaf6-5153-4c40-964b-258cbcfec1b4",
   "metadata": {},
   "source": [
    "Exercice d’échauffement\n",
    "Avant de vous lancer dans l’atelier proprement dit, voici un exercice d’échauffement entièrement résolu qui vous aidera à apprendre à accéder à une API.\n",
    "\n",
    "À l’aide d’une API, découvrons qui se trouve actuellement à bord de la Station spatiale internationale (ISS).\n",
    "L’API à http://api.open-notify.org/astros.json nous donne les informations des astronautes actuellement sur l’ISS au format json.\n",
    "Pour en savoir plus sur cette API, rendez-vous à l’http://open-notify.org/Open-Notify-API/People-In-Space/\n",
    "\n"
   ]
  },
  {
   "cell_type": "code",
   "execution_count": 38,
   "id": "fb953cac-d527-4e45-b362-bd1d82710256",
   "metadata": {},
   "outputs": [],
   "source": [
    "import requests # you need this module to make an API call\n",
    "import pandas as pd"
   ]
  },
  {
   "cell_type": "code",
   "execution_count": 39,
   "id": "0f0a6848-1aa5-403e-acab-a16e0db3f633",
   "metadata": {},
   "outputs": [],
   "source": [
    "api_url = \"http://api.open-notify.org/astros.json\" # this url gives use the astronaut data"
   ]
  },
  {
   "cell_type": "code",
   "execution_count": 40,
   "id": "a61f8a62-2b04-4991-add2-0d4df3a0a3a4",
   "metadata": {},
   "outputs": [],
   "source": [
    "response = requests.get(api_url) # Call the API using the get method and store the\n",
    "                                 # output of the API call in a variable called response."
   ]
  },
  {
   "cell_type": "code",
   "execution_count": 41,
   "id": "3115ba96-6d75-464f-982f-4539c26e7775",
   "metadata": {},
   "outputs": [],
   "source": [
    "if response.ok:             # if all is well() no errors, no network timeouts)\n",
    "    data = response.json()  # store the result in json format in a variable called data\n",
    "                            # the variable data is of type dictionary."
   ]
  },
  {
   "cell_type": "code",
   "execution_count": 42,
   "id": "97a34438-46e7-42e0-83d0-6c0d7bf39407",
   "metadata": {},
   "outputs": [
    {
     "name": "stdout",
     "output_type": "stream",
     "text": [
      "{'people': [{'craft': 'ISS', 'name': 'Oleg Kononenko'}, {'craft': 'ISS', 'name': 'Nikolai Chub'}, {'craft': 'ISS', 'name': 'Tracy Caldwell Dyson'}, {'craft': 'ISS', 'name': 'Matthew Dominick'}, {'craft': 'ISS', 'name': 'Michael Barratt'}, {'craft': 'ISS', 'name': 'Jeanette Epps'}, {'craft': 'ISS', 'name': 'Alexander Grebenkin'}, {'craft': 'ISS', 'name': 'Butch Wilmore'}, {'craft': 'ISS', 'name': 'Sunita Williams'}, {'craft': 'Tiangong', 'name': 'Li Guangsu'}, {'craft': 'Tiangong', 'name': 'Li Cong'}, {'craft': 'Tiangong', 'name': 'Ye Guangfu'}], 'number': 12, 'message': 'success'}\n"
     ]
    }
   ],
   "source": [
    "print(data)   # print the data just to check the output or for debugging"
   ]
  },
  {
   "cell_type": "markdown",
   "id": "84a653aa-2349-47c2-a1d0-6199ee56bff9",
   "metadata": {},
   "source": [
    "Print the number of astronauts currently on ISS"
   ]
  },
  {
   "cell_type": "code",
   "execution_count": 43,
   "id": "fa34d5ed-c051-4c88-a222-b90ec0a04afa",
   "metadata": {},
   "outputs": [
    {
     "name": "stdout",
     "output_type": "stream",
     "text": [
      "12\n"
     ]
    }
   ],
   "source": [
    "print(data.get('number'))"
   ]
  },
  {
   "cell_type": "markdown",
   "id": "8cfe26b6-40b3-4af8-9a55-ceeae31e643f",
   "metadata": {},
   "source": [
    "Print the names of the astronauts currently on ISS."
   ]
  },
  {
   "cell_type": "code",
   "execution_count": 44,
   "id": "1d4f09ce-3206-4a7f-8ab1-82f96a42c2c0",
   "metadata": {},
   "outputs": [
    {
     "name": "stdout",
     "output_type": "stream",
     "text": [
      "There are 12 astronauts on ISS\n",
      "And their names are :\n",
      "Oleg Kononenko\n",
      "Nikolai Chub\n",
      "Tracy Caldwell Dyson\n",
      "Matthew Dominick\n",
      "Michael Barratt\n",
      "Jeanette Epps\n",
      "Alexander Grebenkin\n",
      "Butch Wilmore\n",
      "Sunita Williams\n",
      "Li Guangsu\n",
      "Li Cong\n",
      "Ye Guangfu\n"
     ]
    }
   ],
   "source": [
    "astronauts = data.get('people')\n",
    "print(\"There are {} astronauts on ISS\".format(len(astronauts)))\n",
    "print(\"And their names are :\")\n",
    "for astronaut in astronauts:\n",
    "    print(astronaut.get('name'))"
   ]
  },
  {
   "cell_type": "markdown",
   "id": "b0fcddb1-764a-4426-a408-0b7e445e0b1a",
   "metadata": {},
   "source": [
    "Atelier : Collecter des données de tâches à l’aide de l’API Tâches\n",
    "Objectif : Déterminer le nombre d’emplois actuellement ouverts pour diverses technologies et pour divers emplacements\n",
    "Collectez le nombre d’offres d’emploi pour les emplacements suivants à l’aide de l’API :\n",
    "\n",
    "Los Angeles\n",
    "New York\n",
    "San Francisco\n",
    "Washington DC\n",
    "Seattle\n",
    "Austin\n",
    "Detroit\n",
    "\n"
   ]
  },
  {
   "cell_type": "code",
   "execution_count": 45,
   "id": "b9a88fea-4584-4013-9431-e1bacb06ddcc",
   "metadata": {},
   "outputs": [],
   "source": [
    "#Import required libraries\n",
    "import pandas as pd\n",
    "import json"
   ]
  },
  {
   "cell_type": "markdown",
   "id": "0908a4ee-b8c4-4fdc-84bf-144e088a4d04",
   "metadata": {},
   "source": [
    "Écrivez une fonction pour obtenir le nombre de tâches pour la technologie Python.\n",
    "Remarque : Lors de l’utilisation de l’atelier, vous devez transmettre les informations de charge utile pour l’attribut params sous la forme de paires clé-valeur. Reportez-vous au labo d’api rest non gradué dans le cours Python pour la science des données, l’IA et le développement lien\n",
    "\n",
    "Les clés dans le json sont\n",
    "Titre du poste\n",
    "\n",
    "Expérience professionnelle requise\n",
    "\n",
    "Compétences clés\n",
    "\n",
    "Catégorie de rôle\n",
    "\n",
    "Emplacement\n",
    "\n",
    "Domaine fonctionnel\n",
    "\n",
    "Industrie\n",
    "\n",
    "Rôle\n",
    "\n",
    "Vous pouvez également afficher le contenu du fichier json à partir de l’URL json suivante.\n"
   ]
  },
  {
   "cell_type": "code",
   "execution_count": 57,
   "id": "43712050-2fed-4fa6-8d86-4697e6e5a895",
   "metadata": {},
   "outputs": [],
   "source": [
    "api_url=\"http://127.0.0.1:5000/data\"\n",
    "def get_number_of_jobs_T(technology):\n",
    "    \n",
    "    #your code goes here\n",
    "    return technology,number_of_jobs"
   ]
  },
  {
   "cell_type": "code",
   "execution_count": 65,
   "id": "01574c83-253b-47e1-8968-9a5cd035cf58",
   "metadata": {},
   "outputs": [
    {
     "name": "stdout",
     "output_type": "stream",
     "text": [
      "Pour Python, il y a 0 emplois disponibles.\n"
     ]
    },
    {
     "ename": "NameError",
     "evalue": "name 'technology' is not defined",
     "output_type": "error",
     "traceback": [
      "\u001b[1;31m---------------------------------------------------------------------------\u001b[0m",
      "\u001b[1;31mNameError\u001b[0m                                 Traceback (most recent call last)",
      "Cell \u001b[1;32mIn[65], line 23\u001b[0m\n\u001b[0;32m     21\u001b[0m tech, jobs \u001b[38;5;241m=\u001b[39m get_number_of_jobs_T(\u001b[38;5;124m\"\u001b[39m\u001b[38;5;124mPython\u001b[39m\u001b[38;5;124m\"\u001b[39m)\n\u001b[0;32m     22\u001b[0m \u001b[38;5;28mprint\u001b[39m(\u001b[38;5;124mf\u001b[39m\u001b[38;5;124m\"\u001b[39m\u001b[38;5;124mPour \u001b[39m\u001b[38;5;132;01m{\u001b[39;00mtech\u001b[38;5;132;01m}\u001b[39;00m\u001b[38;5;124m, il y a \u001b[39m\u001b[38;5;132;01m{\u001b[39;00mjobs\u001b[38;5;132;01m}\u001b[39;00m\u001b[38;5;124m emplois disponibles.\u001b[39m\u001b[38;5;124m\"\u001b[39m)       \n\u001b[1;32m---> 23\u001b[0m response \u001b[38;5;241m=\u001b[39m requests\u001b[38;5;241m.\u001b[39mget(api_url, params\u001b[38;5;241m=\u001b[39m{\u001b[38;5;124m\"\u001b[39m\u001b[38;5;124mtechnology\u001b[39m\u001b[38;5;124m\"\u001b[39m: \u001b[43mtechnology\u001b[49m})\n",
      "\u001b[1;31mNameError\u001b[0m: name 'technology' is not defined"
     ]
    }
   ],
   "source": [
    "import requests\n",
    "\n",
    "api_url = \"http://127.0.0.1:5000/data\"\n",
    "\n",
    "def get_number_of_jobs_T(technology):\n",
    "    try:\n",
    "        # Ajouter la technologie comme paramètre de requête\n",
    "        response.raise_for_status()  # Vérifie les erreurs HTTP\n",
    "\n",
    "        # Extraire les données JSON de la réponse\n",
    "        data = response.json()\n",
    "        number_of_jobs = data.get(\"number_of_jobs\", 0)  # Récupérer 'number_of_jobs' ou retourner 0 par défaut\n",
    "\n",
    "        return technology, number_of_jobs\n",
    "\n",
    "    except Exception as e:\n",
    "        print(f\"Erreur lors de la requête API: {e}\")\n",
    "        return technology, 0  # Retourne 0 en cas d'erreur\n",
    "\n",
    "# Exemple d'utilisation :\n",
    "tech, jobs = get_number_of_jobs_T(\"Python\")\n",
    "print(f\"Pour {tech}, il y a {jobs} emplois disponibles.\")       \n",
    "response = requests.get(api_url, params={\"technology\": technology})\n",
    "\n"
   ]
  },
  {
   "cell_type": "markdown",
   "id": "39e1e847-6533-4d08-97db-f7f2ea54bc65",
   "metadata": {},
   "source": [
    "Calling the function for Python and checking if it works."
   ]
  },
  {
   "cell_type": "markdown",
   "id": "e3965ccf-c0de-4d55-bad0-8732c1ffbda9",
   "metadata": {},
   "source": [
    "Write a function to find number of jobs in US for a location of your choice"
   ]
  },
  {
   "cell_type": "code",
   "execution_count": 59,
   "id": "07443c2b-cc50-44dd-a6f2-8b10e863749a",
   "metadata": {},
   "outputs": [],
   "source": [
    " def get_number_of_jobs_L(location):\n",
    "    \n",
    "    #your coe goes here\n",
    "    return location,number_of_jobs"
   ]
  },
  {
   "cell_type": "code",
   "execution_count": 60,
   "id": "e74f2408-6875-4047-950b-5050ac2622ef",
   "metadata": {},
   "outputs": [
    {
     "name": "stdout",
     "output_type": "stream",
     "text": [
      "Erreur lors de la requête API : HTTPConnectionPool(host='127.0.0.1', port=5000): Max retries exceeded with url: /jobs?location=New+York (Caused by NewConnectionError('<urllib3.connection.HTTPConnection object at 0x000001844B206A80>: Failed to establish a new connection: [WinError 10061] Aucune connexion n’a pu être établie car l’ordinateur cible l’a expressément refusée'))\n",
      "Pour l'emplacement 'New York', il y a 0 emplois disponibles.\n"
     ]
    }
   ],
   "source": [
    "import requests\n",
    "\n",
    "# URL de l'API locale ou distante\n",
    "api_url = \"http://127.0.0.1:5000/jobs\"\n",
    "\n",
    "def get_number_of_jobs_L(location):\n",
    "    try:\n",
    "        # Envoie une requête GET avec l'emplacement comme paramètre\n",
    "        response = requests.get(api_url, params={\"location\": location})\n",
    "        response.raise_for_status()  # Vérifie les erreurs HTTP\n",
    "        \n",
    "        # Extraire les données JSON de la réponse\n",
    "        data = response.json()\n",
    "        number_of_jobs = data.get(\"number_of_jobs\", 0)  # Obtenez le nombre d'emplois ou 0 par défaut\n",
    "\n",
    "        return location, number_of_jobs\n",
    "\n",
    "    except Exception as e:\n",
    "        print(f\"Erreur lors de la requête API : {e}\")\n",
    "        return location, 0  # Retourne 0 en cas d'erreur\n",
    "\n",
    "# Exemple d'appel pour un emplacement aux États-Unis\n",
    "loc, jobs = get_number_of_jobs_L(\"New York\")\n",
    "print(f\"Pour l'emplacement '{loc}', il y a {jobs} emplois disponibles.\")\n"
   ]
  },
  {
   "cell_type": "markdown",
   "id": "212a2589-7687-415e-95e2-1c93440099de",
   "metadata": {},
   "source": [
    "Call the function for Los Angeles and check if it is working."
   ]
  },
  {
   "cell_type": "code",
   "execution_count": 1,
   "id": "9f636ca6-ce63-437f-885d-85b1f452adce",
   "metadata": {},
   "outputs": [
    {
     "ename": "SyntaxError",
     "evalue": "invalid syntax (1840234304.py, line 1)",
     "output_type": "error",
     "traceback": [
      "\u001b[1;36m  Cell \u001b[1;32mIn[1], line 1\u001b[1;36m\u001b[0m\n\u001b[1;33m    http://127.0.0.1:5000/jobs?location=Los+Angeles   #your code goes here\u001b[0m\n\u001b[1;37m         ^\u001b[0m\n\u001b[1;31mSyntaxError\u001b[0m\u001b[1;31m:\u001b[0m invalid syntax\n"
     ]
    }
   ],
   "source": [
    "http://127.0.0.1:5000/jobs?location=Los+Angeles   #your code goes here\n",
    "{\"location\": \"Los Angeles\", \"number_of_jobs\": 1200}\n"
   ]
  },
  {
   "cell_type": "markdown",
   "id": "5198e6a9-f8f5-4047-aa68-3c3223f94b4c",
   "metadata": {},
   "source": [
    "Stocker les résultats dans un fichier Excel\n",
    "Appelez l’API pour toutes les technologies données ci-dessus et écrivez les résultats dans une feuille de calcul Excel.\n",
    "\n",
    "Si vous ne savez pas comment créer un fichier excel à l’aide de python, double-cliquez ici pour des conseils.\n",
    "\n",
    "Créez une liste python de toutes les technologies pour lesquelles vous devez trouver le nombre d’offres d’emploi."
   ]
  },
  {
   "cell_type": "code",
   "execution_count": 63,
   "id": "a583377b-0af8-4152-8067-7c65809c1477",
   "metadata": {},
   "outputs": [
    {
     "name": "stdout",
     "output_type": "stream",
     "text": [
      "Erreur lors de la requête API pour Python : HTTPConnectionPool(host='127.0.0.1', port=5000): Max retries exceeded with url: /data?technology=Python (Caused by NewConnectionError('<urllib3.connection.HTTPConnection object at 0x000001844B656B40>: Failed to establish a new connection: [WinError 10061] Aucune connexion n’a pu être établie car l’ordinateur cible l’a expressément refusée'))\n",
      "Erreur lors de la requête API pour JavaScript : HTTPConnectionPool(host='127.0.0.1', port=5000): Max retries exceeded with url: /data?technology=JavaScript (Caused by NewConnectionError('<urllib3.connection.HTTPConnection object at 0x000001844B401DF0>: Failed to establish a new connection: [WinError 10061] Aucune connexion n’a pu être établie car l’ordinateur cible l’a expressément refusée'))\n",
      "Erreur lors de la requête API pour Java : HTTPConnectionPool(host='127.0.0.1', port=5000): Max retries exceeded with url: /data?technology=Java (Caused by NewConnectionError('<urllib3.connection.HTTPConnection object at 0x000001844B6B0920>: Failed to establish a new connection: [WinError 10061] Aucune connexion n’a pu être établie car l’ordinateur cible l’a expressément refusée'))\n",
      "Erreur lors de la requête API pour C# : HTTPConnectionPool(host='127.0.0.1', port=5000): Max retries exceeded with url: /data?technology=C%23 (Caused by NewConnectionError('<urllib3.connection.HTTPConnection object at 0x000001844B6B1370>: Failed to establish a new connection: [WinError 10061] Aucune connexion n’a pu être établie car l’ordinateur cible l’a expressément refusée'))\n",
      "Erreur lors de la requête API pour Ruby : HTTPConnectionPool(host='127.0.0.1', port=5000): Max retries exceeded with url: /data?technology=Ruby (Caused by NewConnectionError('<urllib3.connection.HTTPConnection object at 0x000001844B6B1D90>: Failed to establish a new connection: [WinError 10061] Aucune connexion n’a pu être établie car l’ordinateur cible l’a expressément refusée'))\n",
      "Erreur lors de la requête API pour Go : HTTPConnectionPool(host='127.0.0.1', port=5000): Max retries exceeded with url: /data?technology=Go (Caused by NewConnectionError('<urllib3.connection.HTTPConnection object at 0x000001844B6B2810>: Failed to establish a new connection: [WinError 10061] Aucune connexion n’a pu être établie car l’ordinateur cible l’a expressément refusée'))\n",
      "Erreur lors de la requête API pour Swift : HTTPConnectionPool(host='127.0.0.1', port=5000): Max retries exceeded with url: /data?technology=Swift (Caused by NewConnectionError('<urllib3.connection.HTTPConnection object at 0x000001844B55C950>: Failed to establish a new connection: [WinError 10061] Aucune connexion n’a pu être établie car l’ordinateur cible l’a expressément refusée'))\n",
      "Erreur lors de la requête API pour Kotlin : HTTPConnectionPool(host='127.0.0.1', port=5000): Max retries exceeded with url: /data?technology=Kotlin (Caused by NewConnectionError('<urllib3.connection.HTTPConnection object at 0x000001844B6B20C0>: Failed to establish a new connection: [WinError 10061] Aucune connexion n’a pu être établie car l’ordinateur cible l’a expressément refusée'))\n",
      "Erreur lors de la requête API pour PHP : HTTPConnectionPool(host='127.0.0.1', port=5000): Max retries exceeded with url: /data?technology=PHP (Caused by NewConnectionError('<urllib3.connection.HTTPConnection object at 0x000001844B6B1D30>: Failed to establish a new connection: [WinError 10061] Aucune connexion n’a pu être établie car l’ordinateur cible l’a expressément refusée'))\n",
      "Erreur lors de la requête API pour SQL : HTTPConnectionPool(host='127.0.0.1', port=5000): Max retries exceeded with url: /data?technology=SQL (Caused by NewConnectionError('<urllib3.connection.HTTPConnection object at 0x000001844B6B11F0>: Failed to establish a new connection: [WinError 10061] Aucune connexion n’a pu être établie car l’ordinateur cible l’a expressément refusée'))\n",
      "Les résultats ont été enregistrés dans le fichier : job_counts.xlsx\n"
     ]
    }
   ],
   "source": [
    "import requests\n",
    "from openpyxl import Workbook\n",
    "\n",
    "# URL de l'API\n",
    "api_url = \"http://127.0.0.1:5000/data\"\n",
    "\n",
    "# Liste des technologies\n",
    "technologies = [\"Python\", \"JavaScript\", \"Java\", \"C#\", \"Ruby\", \"Go\", \"Swift\", \"Kotlin\", \"PHP\", \"SQL\"]\n",
    "\n",
    "# Fonction pour obtenir le nombre d'emplois pour une technologie\n",
    "def get_number_of_jobs_T(technology):\n",
    "    try:\n",
    "        response = requests.get(api_url, params={\"technology\": technology})\n",
    "        response.raise_for_status()\n",
    "        data = response.json()\n",
    "        return data.get(\"number_of_jobs\", 0)\n",
    "    except Exception as e:\n",
    "        print(f\"Erreur lors de la requête API pour {technology} : {e}\")\n",
    "        return 0\n",
    "\n",
    "# Collecter les résultats\n",
    "results = []\n",
    "for tech in technologies:\n",
    "    jobs = get_number_of_jobs_T(tech)\n",
    "    results.append((tech, jobs))\n",
    "\n",
    "# Créer un fichier Excel et ajouter les résultats\n",
    "workbook = Workbook()\n",
    "sheet = workbook.active\n",
    "sheet.title = \"Job Counts\"\n",
    "\n",
    "# Écrire les en-têtes\n",
    "sheet.append([\"Technology\", \"Number of Jobs\"])\n",
    "\n",
    "# Ajouter les données\n",
    "for tech, jobs in results:\n",
    "    sheet.append([tech, jobs])\n",
    "\n",
    "# Enregistrer le fichier Excel\n",
    "file_path = \"job_counts.xlsx\"\n",
    "workbook.save(file_path)\n",
    "\n",
    "print(f\"Les résultats ont été enregistrés dans le fichier : {file_path}\")\n",
    "#your code goes here"
   ]
  },
  {
   "cell_type": "markdown",
   "id": "0a5e8870-de99-408c-adc3-dad9f86d9657",
   "metadata": {},
   "source": [
    "Importer les bibliothèques nécessaires à la création d’une feuille de calcul Excel"
   ]
  },
  {
   "cell_type": "code",
   "execution_count": 18,
   "id": "7deaf29f-f964-4cef-889e-98c1db0dc1f8",
   "metadata": {},
   "outputs": [],
   "source": [
    "#your code goes here"
   ]
  },
  {
   "cell_type": "markdown",
   "id": "a975de39-2fb4-43d7-8f52-63d7adeeffb4",
   "metadata": {},
   "source": [
    "Créez un classeur et sélectionnez la feuille de calcul active"
   ]
  },
  {
   "cell_type": "code",
   "execution_count": 19,
   "id": "4bb1b809-9786-4338-b7c4-7062d74a1050",
   "metadata": {},
   "outputs": [],
   "source": [
    "#your code goes here"
   ]
  },
  {
   "cell_type": "markdown",
   "id": "d9422905-7a8f-4bd2-b66b-d8a269b5de85",
   "metadata": {},
   "source": [
    "Trouvez le nombre d’offres d’emploi pour chacune des technologies dans la liste ci-dessus. Inscrivez le nom de la technologie et le nombre d’offres d’emploi dans la feuille de calcul Excel."
   ]
  },
  {
   "cell_type": "code",
   "execution_count": 20,
   "id": "61373417-06a0-4688-97f8-1097723abe07",
   "metadata": {},
   "outputs": [],
   "source": [
    "#your code goes here"
   ]
  },
  {
   "cell_type": "markdown",
   "id": "aa81a0af-dfd5-4fa6-9b54-02a0593bde80",
   "metadata": {},
   "source": [
    "Enregistrez dans une feuille de calcul Excel nommée job-postings.xlsx."
   ]
  },
  {
   "cell_type": "code",
   "execution_count": 21,
   "id": "05619a6b-f6af-4690-99ff-4050dede033b",
   "metadata": {},
   "outputs": [],
   "source": [
    "#your code goes here"
   ]
  },
  {
   "cell_type": "markdown",
   "id": "6c2a28c8-fc4c-437b-ae5e-82fa082fbd62",
   "metadata": {},
   "source": [
    "In the similar way, you can try for below given technologies and results can be stored in an excel sheet.\n",
    "Collect the number of job postings for the following languages using the API:\n",
    "\n",
    "C\n",
    "C#\n",
    "C++\n",
    "Java\n",
    "JavaScript\n",
    "Python\n",
    "Scala\n",
    "Oracle\n",
    "SQL Server\n",
    "MySQL Server\n",
    "PostgreSQL\n",
    "MongoDB"
   ]
  },
  {
   "cell_type": "code",
   "execution_count": 22,
   "id": "29f70c4a-ae52-4df1-9f61-877248c865d2",
   "metadata": {},
   "outputs": [],
   "source": [
    "#your code goes here"
   ]
  },
  {
   "cell_type": "markdown",
   "id": "939d05ce-3159-42de-8ac9-74738ce9fe99",
   "metadata": {},
   "source": [
    "Auteurs\n",
    "Ayushi Jain\n",
    "\n",
    "Autres contributeurs\n",
    "Rav Ahuja\n",
    "\n",
    "Lakshmi Holla\n",
    "\n",
    "Malika\n",
    "\n",
    "Droits d’auteur © IBM Corporation."
   ]
  },
  {
   "cell_type": "code",
   "execution_count": null,
   "id": "29ec3ddc-1535-485f-8ab4-6de06a41ab6f",
   "metadata": {},
   "outputs": [],
   "source": []
  }
 ],
 "metadata": {
  "kernelspec": {
   "display_name": "Python 3 (ipykernel)",
   "language": "python",
   "name": "python3"
  },
  "language_info": {
   "codemirror_mode": {
    "name": "ipython",
    "version": 3
   },
   "file_extension": ".py",
   "mimetype": "text/x-python",
   "name": "python",
   "nbconvert_exporter": "python",
   "pygments_lexer": "ipython3",
   "version": "3.12.4"
  }
 },
 "nbformat": 4,
 "nbformat_minor": 5
}
